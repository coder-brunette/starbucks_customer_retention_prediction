{
  "cells": [
    {
      "cell_type": "code",
      "execution_count": 5,
      "id": "995b400f",
      "metadata": {
        "colab": {
          "base_uri": "https://localhost:8080/"
        },
        "id": "995b400f",
        "outputId": "08f17260-8076-4399-c57b-97b6399ab0f7"
      },
      "outputs": [
        {
          "output_type": "stream",
          "name": "stderr",
          "text": [
            "Installing package into ‘/usr/local/lib/R/site-library’\n",
            "(as ‘lib’ is unspecified)\n",
            "\n",
            "Installing package into ‘/usr/local/lib/R/site-library’\n",
            "(as ‘lib’ is unspecified)\n",
            "\n",
            "Installing package into ‘/usr/local/lib/R/site-library’\n",
            "(as ‘lib’ is unspecified)\n",
            "\n",
            "Installing package into ‘/usr/local/lib/R/site-library’\n",
            "(as ‘lib’ is unspecified)\n",
            "\n",
            "Installing package into ‘/usr/local/lib/R/site-library’\n",
            "(as ‘lib’ is unspecified)\n",
            "\n",
            "Installing package into ‘/usr/local/lib/R/site-library’\n",
            "(as ‘lib’ is unspecified)\n",
            "\n"
          ]
        }
      ],
      "source": [
        "# Install and load necessary packages\n",
        "install.packages(\"keras\")\n",
        "install.packages(\"tidyverse\")  # For data manipulation and visualization\n",
        "install.packages(\"caret\")      # For model evaluation\n",
        "install.packages(\"e1071\")      # For preprocessing\n",
        "install.packages(\"rmarkdown\")  # For documentation\n",
        "install.packages(\"shapper\")"
      ]
    },
    {
      "cell_type": "code",
      "execution_count": 6,
      "id": "83a7afa1",
      "metadata": {
        "colab": {
          "base_uri": "https://localhost:8080/"
        },
        "id": "83a7afa1",
        "outputId": "83a6a635-0ded-4ff8-e057-6bc61f767742"
      },
      "outputs": [
        {
          "output_type": "stream",
          "name": "stderr",
          "text": [
            "── \u001b[1mAttaching core tidyverse packages\u001b[22m ──────────────────────── tidyverse 2.0.0 ──\n",
            "\u001b[32m✔\u001b[39m \u001b[34mdplyr    \u001b[39m 1.1.4     \u001b[32m✔\u001b[39m \u001b[34mreadr    \u001b[39m 2.1.5\n",
            "\u001b[32m✔\u001b[39m \u001b[34mforcats  \u001b[39m 1.0.0     \u001b[32m✔\u001b[39m \u001b[34mstringr  \u001b[39m 1.5.1\n",
            "\u001b[32m✔\u001b[39m \u001b[34mggplot2  \u001b[39m 3.4.4     \u001b[32m✔\u001b[39m \u001b[34mtibble   \u001b[39m 3.2.1\n",
            "\u001b[32m✔\u001b[39m \u001b[34mlubridate\u001b[39m 1.9.3     \u001b[32m✔\u001b[39m \u001b[34mtidyr    \u001b[39m 1.3.1\n",
            "\u001b[32m✔\u001b[39m \u001b[34mpurrr    \u001b[39m 1.0.2     \n",
            "── \u001b[1mConflicts\u001b[22m ────────────────────────────────────────── tidyverse_conflicts() ──\n",
            "\u001b[31m✖\u001b[39m \u001b[34mdplyr\u001b[39m::\u001b[32mfilter()\u001b[39m masks \u001b[34mstats\u001b[39m::filter()\n",
            "\u001b[31m✖\u001b[39m \u001b[34mdplyr\u001b[39m::\u001b[32mlag()\u001b[39m    masks \u001b[34mstats\u001b[39m::lag()\n",
            "\u001b[36mℹ\u001b[39m Use the conflicted package (\u001b[3m\u001b[34m<http://conflicted.r-lib.org/>\u001b[39m\u001b[23m) to force all conflicts to become errors\n",
            "Loading required package: lattice\n",
            "\n",
            "\n",
            "Attaching package: ‘caret’\n",
            "\n",
            "\n",
            "The following object is masked from ‘package:purrr’:\n",
            "\n",
            "    lift\n",
            "\n",
            "\n"
          ]
        }
      ],
      "source": [
        "library(keras)\n",
        "library(tidyverse)\n",
        "library(caret)\n",
        "library(e1071)\n",
        "library(rmarkdown)\n",
        "library(shapper)"
      ]
    },
    {
      "cell_type": "code",
      "execution_count": 7,
      "id": "75437d7a",
      "metadata": {
        "colab": {
          "base_uri": "https://localhost:8080/"
        },
        "id": "75437d7a",
        "outputId": "8b15d3df-0945-4d16-ae1e-b030098ca756"
      },
      "outputs": [
        {
          "output_type": "stream",
          "name": "stderr",
          "text": [
            "\u001b[1mRows: \u001b[22m\u001b[34m113\u001b[39m \u001b[1mColumns: \u001b[22m\u001b[34m33\u001b[39m\n",
            "\u001b[36m──\u001b[39m \u001b[1mColumn specification\u001b[22m \u001b[36m────────────────────────────────────────────────────────\u001b[39m\n",
            "\u001b[1mDelimiter:\u001b[22m \",\"\n",
            "\u001b[32mdbl\u001b[39m (33): ï»¿Id, gender, age, status, income, visitNo, method, timeSpend, lo...\n",
            "\n",
            "\u001b[36mℹ\u001b[39m Use `spec()` to retrieve the full column specification for this data.\n",
            "\u001b[36mℹ\u001b[39m Specify the column types or set `show_col_types = FALSE` to quiet this message.\n"
          ]
        }
      ],
      "source": [
        "# Load your dataset\n",
        "data <- read_csv('/content/sample_data/Starbucks_satisfactory_survey.csv')"
      ]
    },
    {
      "cell_type": "code",
      "execution_count": 8,
      "id": "c52074c4",
      "metadata": {
        "colab": {
          "base_uri": "https://localhost:8080/"
        },
        "id": "c52074c4",
        "outputId": "a245ff6e-09a7-4ea8-98a9-c0f853fd8a5d"
      },
      "outputs": [
        {
          "output_type": "stream",
          "name": "stdout",
          "text": [
            "spc_tbl_ [113 × 33] (S3: spec_tbl_df/tbl_df/tbl/data.frame)\n",
            " $ ï»¿Id                 : num [1:113] 1 2 3 4 5 6 7 8 9 10 ...\n",
            " $ gender                : num [1:113] 1 1 0 1 0 1 1 0 1 0 ...\n",
            " $ age                   : num [1:113] 1 1 1 1 1 1 1 1 1 1 ...\n",
            " $ status                : num [1:113] 0 0 2 0 0 0 0 2 0 2 ...\n",
            " $ income                : num [1:113] 0 0 0 0 0 0 0 2 0 0 ...\n",
            " $ visitNo               : num [1:113] 3 3 2 3 2 3 3 3 3 2 ...\n",
            " $ method                : num [1:113] 0 2 0 2 2 0 0 0 1 2 ...\n",
            " $ timeSpend             : num [1:113] 1 0 1 0 1 1 0 1 0 0 ...\n",
            " $ location              : num [1:113] 0 1 2 2 1 2 0 2 2 2 ...\n",
            " $ membershipCard        : num [1:113] 0 0 0 1 1 1 0 0 0 1 ...\n",
            " $ itemPurchaseCoffee    : num [1:113] 1 1 1 1 1 1 1 1 1 1 ...\n",
            " $ itempurchaseCold      : num [1:113] 1 1 1 1 1 1 1 1 1 1 ...\n",
            " $ itemPurchasePastries  : num [1:113] 1 1 1 1 1 1 1 1 1 1 ...\n",
            " $ itemPurchaseJuices    : num [1:113] 1 1 1 1 1 1 1 1 1 1 ...\n",
            " $ itemPurchaseSandwiches: num [1:113] 1 1 1 1 1 1 1 1 1 1 ...\n",
            " $ itemPurchaseOthers    : num [1:113] 1 1 1 1 1 1 1 1 1 1 ...\n",
            " $ spendPurchase         : num [1:113] 1 1 1 1 2 1 2 1 3 2 ...\n",
            " $ productRate           : num [1:113] 4 4 4 2 3 4 5 4 5 4 ...\n",
            " $ priceRate             : num [1:113] 3 3 3 1 3 3 5 2 4 3 ...\n",
            " $ promoRate             : num [1:113] 5 4 4 4 4 5 5 3 4 3 ...\n",
            " $ ambianceRate          : num [1:113] 5 4 4 3 2 5 5 3 4 4 ...\n",
            " $ wifiRate              : num [1:113] 4 4 4 3 2 4 3 3 4 3 ...\n",
            " $ serviceRate           : num [1:113] 4 5 4 3 3 5 5 3 4 3 ...\n",
            " $ chooseRate            : num [1:113] 3 2 3 3 3 4 5 3 4 4 ...\n",
            " $ promoMethodApp        : num [1:113] 1 1 1 1 1 1 1 1 1 1 ...\n",
            " $ promoMethodSoc        : num [1:113] 1 1 1 1 1 1 1 1 1 1 ...\n",
            " $ promoMethodEmail      : num [1:113] 1 1 1 1 1 1 1 1 1 1 ...\n",
            " $ promoMethodDeal       : num [1:113] 1 1 1 1 1 1 1 1 1 1 ...\n",
            " $ promoMethodFriend     : num [1:113] 1 1 1 1 1 1 1 1 1 1 ...\n",
            " $ promoMethodDisplay    : num [1:113] 1 1 1 1 1 1 1 1 1 1 ...\n",
            " $ promoMethodBillboard  : num [1:113] 1 1 1 1 1 1 1 1 1 1 ...\n",
            " $ promoMethodOthers     : num [1:113] 1 1 1 1 1 1 1 1 1 1 ...\n",
            " $ loyal                 : num [1:113] 0 0 0 1 0 0 0 0 0 0 ...\n",
            " - attr(*, \"spec\")=\n",
            "  .. cols(\n",
            "  ..   `ï»¿Id` = \u001b[32mcol_double()\u001b[39m,\n",
            "  ..   gender = \u001b[32mcol_double()\u001b[39m,\n",
            "  ..   age = \u001b[32mcol_double()\u001b[39m,\n",
            "  ..   status = \u001b[32mcol_double()\u001b[39m,\n",
            "  ..   income = \u001b[32mcol_double()\u001b[39m,\n",
            "  ..   visitNo = \u001b[32mcol_double()\u001b[39m,\n",
            "  ..   method = \u001b[32mcol_double()\u001b[39m,\n",
            "  ..   timeSpend = \u001b[32mcol_double()\u001b[39m,\n",
            "  ..   location = \u001b[32mcol_double()\u001b[39m,\n",
            "  ..   membershipCard = \u001b[32mcol_double()\u001b[39m,\n",
            "  ..   itemPurchaseCoffee = \u001b[32mcol_double()\u001b[39m,\n",
            "  ..   itempurchaseCold = \u001b[32mcol_double()\u001b[39m,\n",
            "  ..   itemPurchasePastries = \u001b[32mcol_double()\u001b[39m,\n",
            "  ..   itemPurchaseJuices = \u001b[32mcol_double()\u001b[39m,\n",
            "  ..   itemPurchaseSandwiches = \u001b[32mcol_double()\u001b[39m,\n",
            "  ..   itemPurchaseOthers = \u001b[32mcol_double()\u001b[39m,\n",
            "  ..   spendPurchase = \u001b[32mcol_double()\u001b[39m,\n",
            "  ..   productRate = \u001b[32mcol_double()\u001b[39m,\n",
            "  ..   priceRate = \u001b[32mcol_double()\u001b[39m,\n",
            "  ..   promoRate = \u001b[32mcol_double()\u001b[39m,\n",
            "  ..   ambianceRate = \u001b[32mcol_double()\u001b[39m,\n",
            "  ..   wifiRate = \u001b[32mcol_double()\u001b[39m,\n",
            "  ..   serviceRate = \u001b[32mcol_double()\u001b[39m,\n",
            "  ..   chooseRate = \u001b[32mcol_double()\u001b[39m,\n",
            "  ..   promoMethodApp = \u001b[32mcol_double()\u001b[39m,\n",
            "  ..   promoMethodSoc = \u001b[32mcol_double()\u001b[39m,\n",
            "  ..   promoMethodEmail = \u001b[32mcol_double()\u001b[39m,\n",
            "  ..   promoMethodDeal = \u001b[32mcol_double()\u001b[39m,\n",
            "  ..   promoMethodFriend = \u001b[32mcol_double()\u001b[39m,\n",
            "  ..   promoMethodDisplay = \u001b[32mcol_double()\u001b[39m,\n",
            "  ..   promoMethodBillboard = \u001b[32mcol_double()\u001b[39m,\n",
            "  ..   promoMethodOthers = \u001b[32mcol_double()\u001b[39m,\n",
            "  ..   loyal = \u001b[32mcol_double()\u001b[39m\n",
            "  .. )\n",
            " - attr(*, \"problems\")=<externalptr> \n"
          ]
        }
      ],
      "source": [
        "str(data)"
      ]
    },
    {
      "cell_type": "code",
      "execution_count": 10,
      "id": "baf52754",
      "metadata": {
        "id": "baf52754"
      },
      "outputs": [],
      "source": [
        "# Handle missing values\n",
        "data <- na.omit(data)"
      ]
    },
    {
      "cell_type": "code",
      "execution_count": 11,
      "id": "1bb38e23",
      "metadata": {
        "colab": {
          "base_uri": "https://localhost:8080/"
        },
        "id": "1bb38e23",
        "outputId": "a6f1c806-2f6e-496b-e94a-d6a0a9942440"
      },
      "outputs": [
        {
          "output_type": "stream",
          "name": "stdout",
          "text": [
            "[1] 0 1\n"
          ]
        }
      ],
      "source": [
        "unique_levels <- unique(data$loyal)\n",
        "print(unique_levels)"
      ]
    },
    {
      "cell_type": "code",
      "execution_count": 12,
      "id": "8bd0669b",
      "metadata": {
        "id": "8bd0669b"
      },
      "outputs": [],
      "source": [
        "# Split data into training and testing sets\n",
        "set.seed(123) # for reproducibility\n",
        "train_index <- createDataPartition(data$loyal, p=0.8, list= FALSE)\n",
        "train_data <- data[train_index, ]\n",
        "test_data <- data[-train_index, ]"
      ]
    },
    {
      "cell_type": "code",
      "execution_count": 13,
      "id": "54b45a43",
      "metadata": {
        "colab": {
          "base_uri": "https://localhost:8080/"
        },
        "id": "54b45a43",
        "outputId": "a05627e8-c54b-463e-f236-b52723e1a10a"
      },
      "outputs": [
        {
          "output_type": "stream",
          "name": "stderr",
          "text": [
            "Warning message in preProcess.default(train_data, method = c(\"center\", \"scale\")):\n",
            "“These variables have zero variances: itemPurchaseCoffee, itempurchaseCold, itemPurchasePastries, itemPurchaseJuices, itemPurchaseSandwiches, itemPurchaseOthers, promoMethodApp, promoMethodSoc, promoMethodEmail, promoMethodDeal, promoMethodFriend, promoMethodDisplay, promoMethodBillboard”\n"
          ]
        }
      ],
      "source": [
        "# Scale numerical features\n",
        "prepoc_train <- preProcess(train_data, method = c(\"center\", \"scale\"))"
      ]
    },
    {
      "cell_type": "code",
      "execution_count": 14,
      "id": "cba3beb5",
      "metadata": {
        "id": "cba3beb5"
      },
      "outputs": [],
      "source": [
        "# These variables have zero variances: itemPurchaseCoffee, itempurchaseCold, itemPurchasePastries,\n",
        "# itemPurchaseJuices, itemPurchaseSandwiches, itemPurchaseOthers, promoMethodApp, promoMethodSoc,\n",
        "# promoMethodEmail, promoMethodDeal, promoMethodFriend, promoMethodDisplay, promoMethodBillboard\n",
        "# Variables with zero variances do not contribute to the variability in the dataset\n",
        "# removing these variables from the dataset"
      ]
    },
    {
      "cell_type": "code",
      "execution_count": 15,
      "id": "4685b28d",
      "metadata": {
        "id": "4685b28d"
      },
      "outputs": [],
      "source": [
        "numeric_vars <- c('age', 'income', 'visitNo', 'spendPurchase', 'productRate', 'priceRate')\n",
        "preproc_train <- preProcess(train_data[, numeric_vars], method = c(\"center\", \"scale\"))\n",
        "train_data[, numeric_vars] <- predict(preproc_train, train_data[, numeric_vars])\n",
        "test_data[, numeric_vars] <- predict(preproc_train, test_data[, numeric_vars])"
      ]
    },
    {
      "cell_type": "code",
      "execution_count": 16,
      "id": "b3aeebc5",
      "metadata": {
        "id": "b3aeebc5"
      },
      "outputs": [],
      "source": [
        "# Convert data to matrix format for Keras\n",
        "x_train <- as.matrix(train_data[, setdiff(names(train_data), \"loyal\")])\n",
        "y_train <- as.numeric(train_data$loyal)\n",
        "x_test <- as.matrix(test_data[, setdiff(names(test_data), \"loyal\")])\n",
        "y_test <- as.numeric(test_data$loyal)"
      ]
    },
    {
      "cell_type": "code",
      "execution_count": 17,
      "id": "efdd6f58",
      "metadata": {
        "id": "efdd6f58"
      },
      "outputs": [],
      "source": [
        "# Define the Neural Network Architecture\n",
        "model <- keras_model_sequential() %>%\n",
        "  layer_dense(units = 64, activation = 'relu', input_shape = ncol(x_train)) %>%\n",
        "  layer_dense(units = 32, activation = 'relu') %>%\n",
        "  layer_dense(units = 1, activation = 'sigmoid')"
      ]
    },
    {
      "cell_type": "code",
      "execution_count": 20,
      "id": "6a9ef7ae",
      "metadata": {
        "id": "6a9ef7ae"
      },
      "outputs": [],
      "source": [
        "# Compile the model\n",
        "model %>% compile(\n",
        "  loss = 'binary_crossentropy',\n",
        "  optimizer = optimizer_rmsprop(),\n",
        "  metrics = c('accuracy')\n",
        ")"
      ]
    },
    {
      "cell_type": "code",
      "source": [
        "# Train the mode\n",
        "history <- model %>% fit(\n",
        "  x_train, y_train,\n",
        "  epochs = 10,\n",
        "  batch_size = 32,\n",
        "  validation_split = 0.2\n",
        ")"
      ],
      "metadata": {
        "id": "zMpMeQ2F_mEN"
      },
      "id": "zMpMeQ2F_mEN",
      "execution_count": 21,
      "outputs": []
    },
    {
      "cell_type": "code",
      "source": [
        "# Evaluate the model\n",
        "evaluation <- model %>% evaluate(x_test, y_test)\n",
        "print(evaluation)"
      ],
      "metadata": {
        "colab": {
          "base_uri": "https://localhost:8080/"
        },
        "id": "zG8E_eve_3eg",
        "outputId": "2a3c1fee-77a6-46ae-bff8-66ad27eac586"
      },
      "id": "zG8E_eve_3eg",
      "execution_count": 22,
      "outputs": [
        {
          "output_type": "stream",
          "name": "stdout",
          "text": [
            "     loss  accuracy \n",
            "0.4391091 0.9090909 \n"
          ]
        }
      ]
    },
    {
      "cell_type": "code",
      "source": [
        "# Example of interpreting binary classification results\n",
        "accuracy <- evaluation[[2]]\n",
        "\n",
        "# Get raw predictions from the model\n",
        "raw_predictions <- model %>% predict(x_test)\n",
        "\n",
        "# Apply thresholding to obtain binary predictions\n",
        "predictions <- ifelse(raw_predictions > 0.5, 1, 0)\n",
        "\n",
        "# Ensure predictions have the same length as y_test\n",
        "predictions <- predictions[1:length(y_test)]\n",
        "\n",
        "# Compute confusion matrix\n",
        "conf_mat <- table(Actual = y_test, Predicted = predictions)"
      ],
      "metadata": {
        "id": "zaaAdfnSAUOF"
      },
      "id": "zaaAdfnSAUOF",
      "execution_count": 23,
      "outputs": []
    },
    {
      "cell_type": "code",
      "source": [
        "cat(\"Accuracy:\", accuracy*100, \"\\n\")"
      ],
      "metadata": {
        "colab": {
          "base_uri": "https://localhost:8080/"
        },
        "id": "ZyLU92gYAjMy",
        "outputId": "2bafaaa6-7090-4e9f-8214-5d2e283b9079"
      },
      "id": "ZyLU92gYAjMy",
      "execution_count": 24,
      "outputs": [
        {
          "output_type": "stream",
          "name": "stdout",
          "text": [
            "Accuracy: 90.90909 \n"
          ]
        }
      ]
    },
    {
      "cell_type": "code",
      "source": [
        "print(conf_mat)"
      ],
      "metadata": {
        "colab": {
          "base_uri": "https://localhost:8080/"
        },
        "id": "HJZVvXc5AlRY",
        "outputId": "3e0b4012-2e6c-48bd-fbd5-c11316c2a514"
      },
      "id": "HJZVvXc5AlRY",
      "execution_count": 25,
      "outputs": [
        {
          "output_type": "stream",
          "name": "stdout",
          "text": [
            "      Predicted\n",
            "Actual  0\n",
            "     0 20\n",
            "     1  2\n"
          ]
        }
      ]
    },
    {
      "cell_type": "code",
      "source": [
        "# Saving the model\n",
        "save_model_hdf5(model, \"trained_model.h5\")"
      ],
      "metadata": {
        "id": "23pRkqxTCm1P"
      },
      "id": "23pRkqxTCm1P",
      "execution_count": 28,
      "outputs": []
    }
  ],
  "metadata": {
    "kernelspec": {
      "display_name": "R",
      "name": "ir"
    },
    "language_info": {
      "codemirror_mode": "r",
      "file_extension": ".r",
      "mimetype": "text/x-r-source",
      "name": "R",
      "pygments_lexer": "r",
      "version": "4.2.1"
    },
    "colab": {
      "provenance": [],
      "gpuType": "T4"
    },
    "accelerator": "GPU"
  },
  "nbformat": 4,
  "nbformat_minor": 5
}